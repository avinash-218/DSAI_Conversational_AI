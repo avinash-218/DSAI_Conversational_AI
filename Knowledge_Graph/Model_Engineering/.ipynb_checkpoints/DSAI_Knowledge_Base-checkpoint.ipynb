{
 "cells": [
  {
   "cell_type": "markdown",
   "metadata": {
    "id": "v4-z7ugDDPjN"
   },
   "source": [
    "# Install Dependencies and Import Libraries"
   ]
  },
  {
   "cell_type": "code",
   "execution_count": 1,
   "metadata": {
    "colab": {
     "base_uri": "https://localhost:8080/"
    },
    "id": "Zs32oIJM34pq",
    "outputId": "1fe68be5-c9e2-4777-d919-31c61b26fd8a"
   },
   "outputs": [
    {
     "name": "stdout",
     "output_type": "stream",
     "text": [
      "Requirement already satisfied: rdflib in c:\\users\\ravin\\anaconda3\\lib\\site-packages (6.1.1)\n",
      "Requirement already satisfied: isodate in c:\\users\\ravin\\anaconda3\\lib\\site-packages (from rdflib) (0.6.1)\n",
      "Requirement already satisfied: setuptools in c:\\users\\ravin\\anaconda3\\lib\\site-packages (from rdflib) (58.0.4)\n",
      "Requirement already satisfied: pyparsing in c:\\users\\ravin\\anaconda3\\lib\\site-packages (from rdflib) (3.0.4)\n",
      "Requirement already satisfied: six in c:\\users\\ravin\\anaconda3\\lib\\site-packages (from isodate->rdflib) (1.16.0)\n"
     ]
    },
    {
     "name": "stderr",
     "output_type": "stream",
     "text": [
      "WARNING: You are using pip version 22.0.4; however, version 22.1.2 is available.\n",
      "You should consider upgrading via the 'C:\\Users\\ravin\\anaconda3\\python.exe -m pip install --upgrade pip' command.\n"
     ]
    }
   ],
   "source": [
    "!pip install rdflib"
   ]
  },
  {
   "cell_type": "code",
   "execution_count": 2,
   "metadata": {
    "id": "ccDeeG08DOJ3"
   },
   "outputs": [],
   "source": [
    "from rdflib.collection import Collection\n",
    "from rdflib import Graph, Namespace, Literal, URIRef\n",
    "from rdflib.namespace import RDF, XSD"
   ]
  },
  {
   "cell_type": "markdown",
   "metadata": {
    "id": "I10Avl4kDVdH"
   },
   "source": [
    "# Define Graph and Namespaces"
   ]
  },
  {
   "cell_type": "code",
   "execution_count": 3,
   "metadata": {
    "id": "fMpplvGKDXlN"
   },
   "outputs": [],
   "source": [
    "g = Graph()\n",
    "#defining namespaces\n",
    "EX = Namespace('http://example.org/') #root namespace called familytree\n",
    "RL = Namespace('http://purl.org/vocab/relationship/') #for relationship\n",
    "DBO = Namespace('https://dbpedia.org/ontology/') #Dbpedia ontology\n",
    "DBR = Namespace('https://dbpedia.org/page/') #dbpedia resource"
   ]
  },
  {
   "cell_type": "markdown",
   "metadata": {
    "id": "GvLGBWilDZW_"
   },
   "source": [
    "# Bind Namespaces to notations"
   ]
  },
  {
   "cell_type": "code",
   "execution_count": 4,
   "metadata": {
    "id": "lcx2_PuqDc--"
   },
   "outputs": [],
   "source": [
    "#binding namespaces\n",
    "g.namespace_manager.bind('exampleURI', EX)\n",
    "g.namespace_manager.bind('relation', RL)\n",
    "g.namespace_manager.bind('dbpediaOntology', DBO)\n",
    "g.namespace_manager.bind('dbpediaPage', DBR)\n"
   ]
  },
  {
   "cell_type": "markdown",
   "metadata": {
    "id": "rTJrU3mlDez4"
   },
   "source": [
    "# Create Custom Knowledge Graph"
   ]
  },
  {
   "cell_type": "code",
   "execution_count": 17,
   "metadata": {
    "colab": {
     "base_uri": "https://localhost:8080/"
    },
    "id": "jhYCUNDx58kk",
    "outputId": "da37679a-6917-4cd1-eab6-7175bf304765"
   },
   "outputs": [
    {
     "name": "stdout",
     "output_type": "stream",
     "text": [
      "@prefix exampleURI: <http://example.org/> .\n",
      "@prefix rdf: <http://www.w3.org/1999/02/22-rdf-syntax-ns#> .\n",
      "@prefix relation: <http://purl.org/vocab/relationship/> .\n",
      "@prefix xsd: <http://www.w3.org/2001/XMLSchema#> .\n",
      "\n",
      "exampleURI:Chandra a exampleURI:Person,\n",
      "        exampleURI:Teacher ;\n",
      "    exampleURI:Character exampleURI:Strict ;\n",
      "    exampleURI:Degree exampleURI:Phd ;\n",
      "    exampleURI:Guided exampleURI:ArjunProjects ;\n",
      "    exampleURI:Likes exampleURI:ChandraInterests ;\n",
      "    exampleURI:Teaches exampleURI:Arjun,\n",
      "        exampleURI:DS ;\n",
      "    exampleURI:WorksAt exampleURI:MSEC ;\n",
      "    exampleURI:age 48 .\n",
      "\n",
      "exampleURI:ArjunInterests rdf:first exampleURI:Blogging ;\n",
      "    rdf:rest ( exampleURI:Gaming exampleURI:Music ) .\n",
      "\n",
      "exampleURI:ChandraInterests rdf:first exampleURI:Mathematics ;\n",
      "    rdf:rest ( exampleURI:DS ) .\n",
      "\n",
      "exampleURI:Vijay a exampleURI:Person,\n",
      "        exampleURI:Student ;\n",
      "    exampleURI:Character exampleURI:Kind ;\n",
      "    exampleURI:Completed exampleURI:VijayProjects ;\n",
      "    exampleURI:Degree exampleURI:ME ;\n",
      "    exampleURI:Likes exampleURI:VijayInterests ;\n",
      "    exampleURI:Position exampleURI:Intern ;\n",
      "    exampleURI:StudiesAt exampleURI:TCE ;\n",
      "    exampleURI:WorksAt exampleURI:DeepSphere ;\n",
      "    exampleURI:age 18 ;\n",
      "    relation:friendOf exampleURI:Arjun .\n",
      "\n",
      "exampleURI:VijayInterests rdf:first exampleURI:Football ;\n",
      "    rdf:rest ( exampleURI:Gaming exampleURI:Coding ) .\n",
      "\n",
      "exampleURI:VijayProjects rdf:first exampleURI:TOPSIS ;\n",
      "    rdf:rest ( exampleURI:Action_Recognition ) .\n",
      "\n",
      "exampleURI:Arjun a exampleURI:Person,\n",
      "        exampleURI:Student ;\n",
      "    exampleURI:Character exampleURI:Friendly ;\n",
      "    exampleURI:Completed exampleURI:ArjunProjects ;\n",
      "    exampleURI:Degree exampleURI:BE ;\n",
      "    exampleURI:Likes exampleURI:ArjunInterests ;\n",
      "    exampleURI:Position exampleURI:Intern ;\n",
      "    exampleURI:StudiesAt exampleURI:MSEC ;\n",
      "    exampleURI:WorksAt exampleURI:DeepSphere ;\n",
      "    exampleURI:age 22 ;\n",
      "    relation:friendOf exampleURI:Vijay .\n",
      "\n",
      "exampleURI:ArjunProjects rdf:first exampleURI:Conversational_AI ;\n",
      "    rdf:rest ( exampleURI:Boosting_Techniques exampleURI:Style_GAN ) .\n",
      "\n",
      "\n"
     ]
    }
   ],
   "source": [
    "g.add((EX.Arjun, RDF.type, EX.Person)) #arjun is a person\n",
    "g.add((EX.Vijay, RDF.type, EX.Person)) #vijay is a person\n",
    "g.add((EX.Chandra, RDF.type, EX.Person)) #Chandra is a person\n",
    "\n",
    "g.add((EX.Arjun, RL.friendOf, EX.Vijay)) #arjun is a friend of vijay\n",
    "g.add((EX.Vijay, RL.friendOf, EX.Arjun)) #vijay is a friend of arjun\n",
    "\n",
    "g.add((EX.Arjun, EX.age, Literal(22))) #arjun's age is 22\n",
    "g.add((EX.Vijay, EX.age, Literal(18))) #vijay's age is 18\n",
    "g.add((EX.Chandra, EX.age, Literal(48))) #Chandra's age is 48\n",
    "\n",
    "Collection (g, EX.ArjunInterests, [EX.Blogging, EX.Gaming, EX.Music]) #define arjun's interest as blogging, gaming, music\n",
    "Collection (g, EX.VijayInterests, [EX.Football, EX.Gaming, EX.Coding]) #define Vijay's interest as football, gaming, coding\n",
    "Collection (g, EX.ChandraInterests, [EX.Mathematics, EX.DS]) #define chandra's interest as mathematics, DS\n",
    "\n",
    "g.add((EX.Arjun, EX.Likes, EX.ArjunInterests)) #arjun Likes blogging, gaming, music\n",
    "g.add((EX.Vijay, EX.Likes, EX.VijayInterests)) #arjun Likes blogging, gaming, music\n",
    "g.add((EX.Chandra, EX.Likes, EX.ChandraInterests)) #Chandra Likes mathematics, DS\n",
    "\n",
    "g.add((EX.Arjun, RDF.type, EX.Student))#arjun is student\n",
    "g.add((EX.Vijay, RDF.type, EX.Student))#vijay is student\n",
    "g.add((EX.Chandra, RDF.type, EX.Teacher))#chandra is teacher\n",
    "\n",
    "g.add((EX.Arjun, EX.Character, EX.Friendly)) #arjun is friendly\n",
    "g.add((EX.Vijay, EX.Character, EX.Kind)) #Vijay is kind\n",
    "g.add((EX.Chandra, EX.Character, EX.Strict)) #chandra is strict\n",
    "\n",
    "g.add((EX.Arjun, EX.WorksAt, EX.DeepSphere)) #arjun works at DeepSphere\n",
    "g.add((EX.Vijay, EX.WorksAt, EX.DeepSphere)) #Vijay works at DeepSphere\n",
    "g.add((EX.Chandra, EX.WorksAt, EX.MSEC)) #chandra works at MSEC (college)\n",
    "\n",
    "g.add((EX.Arjun, EX.Position, EX.Intern)) #Arjun's position is intern\n",
    "g.add((EX.Vijay, EX.Position, EX.Intern)) #Vijay's position is intern\n",
    "\n",
    "g.add((EX.Arjun, EX.StudiesAt, EX.MSEC)) #Arjun studies at MSEC (college)\n",
    "g.add((EX.Vijay, EX.StudiesAt, EX.TCE)) #Vijay studies at TCE(college)\n",
    "\n",
    "g.add((EX.Chandra, EX.Teaches, EX.Arjun)) #Chandra teaches Arjun\n",
    "g.add((EX.Chandra, EX.Teaches, EX.DS)) #Chandra teaches DS\n",
    "\n",
    "g.add((EX.Arjun, EX.Degree, EX.BE)) # Arjun studied BE\n",
    "g.add((EX.Vijay, EX.Degree, EX.ME)) # Vijay studied ME\n",
    "g.add((EX.Chandra, EX.Degree, EX.Phd)) # Chandra studied Phd\n",
    "\n",
    "Collection (g, EX.ArjunProjects, [EX.Conversational_AI, EX.Boosting_Techniques, EX.Style_GAN]) #define arjun's projects as Conversational_AI, Boosting_Techniques, Style_GAN\n",
    "Collection (g, EX.VijayProjects, [EX.TOPSIS, EX.Action_Recognition]) #define vijay's projects as TOPSIS, Action_Recognition\n",
    "\n",
    "g.add((EX.Arjun, EX.Completed, EX.ArjunProjects)) #Arjun Completed Conversational_AI, Boosting_Techniques, Style_GAN\n",
    "g.add((EX.Vijay, EX.Completed, EX.VijayProjects)) #Vijay Completed TOPSIS, Action_Recognition\n",
    "\n",
    "g.add((EX.Chandra, EX.Guided, EX.ArjunProjects)) #chandra guided arjun in his projects\n",
    "\n",
    "print(g.serialize(format=\"turtle\"))"
   ]
  },
  {
   "cell_type": "markdown",
   "metadata": {
    "id": "VOU2fBgTDnWI"
   },
   "source": [
    "# Populate Graph to File"
   ]
  },
  {
   "cell_type": "code",
   "execution_count": 18,
   "metadata": {
    "colab": {
     "base_uri": "https://localhost:8080/"
    },
    "id": "qvd5sCnQDma_",
    "outputId": "6204faa8-4427-4690-8347-c04f3c2b525d"
   },
   "outputs": [
    {
     "data": {
      "text/plain": [
       "<Graph identifier=N752f02e7853a47fc912785c1b9a86691 (<class 'rdflib.graph.Graph'>)>"
      ]
     },
     "execution_count": 18,
     "metadata": {},
     "output_type": "execute_result"
    }
   ],
   "source": [
    "g.serialize(destination=\"DSAI_Graph.ttl\")"
   ]
  }
 ],
 "metadata": {
  "colab": {
   "collapsed_sections": [
    "v4-z7ugDDPjN",
    "I10Avl4kDVdH",
    "GvLGBWilDZW_",
    "VOU2fBgTDnWI"
   ],
   "name": "Create RDF Graph",
   "provenance": []
  },
  "kernelspec": {
   "display_name": "Python 3 (ipykernel)",
   "language": "python",
   "name": "python3"
  },
  "language_info": {
   "codemirror_mode": {
    "name": "ipython",
    "version": 3
   },
   "file_extension": ".py",
   "mimetype": "text/x-python",
   "name": "python",
   "nbconvert_exporter": "python",
   "pygments_lexer": "ipython3",
   "version": "3.9.7"
  }
 },
 "nbformat": 4,
 "nbformat_minor": 1
}
